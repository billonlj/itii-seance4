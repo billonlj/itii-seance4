{
 "cells": [
  {
   "cell_type": "code",
   "execution_count": 11,
   "metadata": {},
   "outputs": [
    {
     "data": {
      "image/png": "[encoded data removed]",
      "text/latex": [
       "$$\\left [ - \\frac{1}{3} - \\frac{\\sqrt[3]{17}}{3} \\left(- \\frac{1}{2} - \\frac{\\sqrt{3} i}{2}\\right), \\quad - \\frac{1}{3} - \\frac{\\sqrt[3]{17}}{3} \\left(- \\frac{1}{2} + \\frac{\\sqrt{3} i}{2}\\right), \\quad - \\frac{\\sqrt[3]{17}}{3} - \\frac{1}{3}\\right ]$$"
      ],
      "text/plain": [
       "⎡      3 ____ ⎛  1   √3⋅ⅈ⎞        3 ____ ⎛  1   √3⋅ⅈ⎞              ⎤\n",
       "⎢      ╲╱ 17 ⋅⎜- ─ - ────⎟        ╲╱ 17 ⋅⎜- ─ + ────⎟    3 ____    ⎥\n",
       "⎢  1          ⎝  2    2  ⎠    1          ⎝  2    2  ⎠    ╲╱ 17    1⎥\n",
       "⎢- ─ - ───────────────────, - ─ - ───────────────────, - ────── - ─⎥\n",
       "⎣  3            3             3            3               3      3⎦"
      ]
     },
     "execution_count": 11,
     "metadata": {},
     "output_type": "execute_result"
    }
   ],
   "source": [
    "#Exercice 3\n",
    "from sympy import *\n",
    "\n",
    "init_printing()\n",
    "#Question 1\n",
    "x = Symbol('x')\n",
    "#solve(x**2 + 3*x + 5,x)\n",
    "\n",
    "solve(3*x**3 + 3*x**2 + x + 2,x)\n"
   ]
  },
  {
   "cell_type": "code",
   "execution_count": 14,
   "metadata": {},
   "outputs": [
    {
     "data": {
      "image/png": "[encoded data removed]",
      "text/latex": [
       "$$2.2214414690791832753614287632373562972311973563111$$"
      ],
      "text/plain": [
       "2.2214414690791832753614287632373562972311973563111"
      ]
     },
     "execution_count": 14,
     "metadata": {},
     "output_type": "execute_result"
    }
   ],
   "source": [
    "#Exercice 3\n",
    "from sympy import *\n",
    "\n",
    "init_printing()\n",
    "#Question 2\n",
    "x = Symbol('x')\n",
    "N(pi*sqrt(2/4),50)"
   ]
  },
  {
   "cell_type": "code",
   "execution_count": 48,
   "metadata": {},
   "outputs": [
    {
     "data": {
      "image/png": "[encoded data removed]",
      "text/latex": [
       "$$\\left ( -524288, \\quad 1 + 524288 \\sqrt{3}\\right )$$"
      ],
      "text/plain": [
       "(-524288, 1 + 524288⋅√3)"
      ]
     },
     "execution_count": 48,
     "metadata": {},
     "output_type": "execute_result"
    }
   ],
   "source": [
    "#Exercice 3\n",
    "from sympy import *\n",
    "\n",
    "init_printing()\n",
    "#Question 3\n",
    "x = Symbol('x')\n",
    "expr = (1+I*sqrt(3))**20/1+I\n",
    "expr.as_real_imag()\n"
   ]
  },
  {
   "cell_type": "code",
   "execution_count": 24,
   "metadata": {},
   "outputs": [
    {
     "data": {
      "image/png": "[encoded data removed]",
      "text/latex": [
       "$$\\frac{d}{d x} x \\veebar e x$$"
      ],
      "text/plain": [
       "d          \n",
       "──(x ⊻ ℯ⋅x)\n",
       "dx         "
      ]
     },
     "execution_count": 24,
     "metadata": {},
     "output_type": "execute_result"
    }
   ],
   "source": [
    "#Exercice 3\n",
    "from sympy import *\n",
    "\n",
    "init_printing()\n",
    "#Question 4\n",
    "x = Symbol('x')\n",
    "\n",
    "diff(x*E^x^x^x,x)"
   ]
  },
  {
   "cell_type": "code",
   "execution_count": 31,
   "metadata": {},
   "outputs": [
    {
     "data": {
      "image/png": "[encoded data removed]",
      "text/latex": [
       "$$1$$"
      ],
      "text/plain": [
       "1"
      ]
     },
     "execution_count": 31,
     "metadata": {},
     "output_type": "execute_result"
    }
   ],
   "source": [
    "#Exercice 3\n",
    "from sympy import *\n",
    "\n",
    "init_printing()\n",
    "#Question 5\n",
    "x = Symbol('x')\n",
    "\n",
    "limit(sin(x)/x, x, 0)\n",
    "#limit(sin(1/x), x, 0)"
   ]
  },
  {
   "cell_type": "code",
   "execution_count": 55,
   "metadata": {},
   "outputs": [
    {
     "data": {
      "image/png": "[encoded data removed]",
      "text/latex": [
       "$$42$$"
      ],
      "text/plain": [
       "42"
      ]
     },
     "execution_count": 55,
     "metadata": {},
     "output_type": "execute_result"
    }
   ],
   "source": [
    "#Exercice 4\n",
    "from sympy import *\n",
    "\n",
    "init_printing()\n",
    "\n",
    "str(factorial(123)).count('0')"
   ]
  },
  {
   "cell_type": "code",
   "execution_count": 58,
   "metadata": {},
   "outputs": [
    {
     "data": {
      "image/png": "[encoded data removed]",
      "text/latex": [
       "$$- \\frac{1}{R^{2}}$$"
      ],
      "text/plain": [
       "-1 \n",
       "───\n",
       "  2\n",
       " R "
      ]
     },
     "execution_count": 58,
     "metadata": {},
     "output_type": "execute_result"
    }
   ],
   "source": [
    "#Exercice 4\n",
    "from sympy import *\n",
    "\n",
    "init_printing()\n",
    "#Question 2\n",
    "\n",
    "#Vol = pi*r**2*h\n",
    "#S = 2*pi*r*h + 2pi*r**2\n",
    "#S = 2*(vol/r) + 2*(vol/h)\n",
    "#S/2vol= (1/r) + (1/h)\n",
    "\n",
    "h = Symbol(\"h\")\n",
    "r = var(\"R\")\n",
    "diff(1/R+1/h,r)"
   ]
  },
  {
   "cell_type": "code",
   "execution_count": 59,
   "metadata": {},
   "outputs": [
    {
     "data": {
      "image/png": "[encoded data removed]",
      "text/latex": [
       "$$- \\frac{x + y}{x y - 1}$$"
      ],
      "text/plain": [
       "-(x + y) \n",
       "─────────\n",
       " x⋅y - 1 "
      ]
     },
     "execution_count": 59,
     "metadata": {},
     "output_type": "execute_result"
    }
   ],
   "source": [
    "#Exercice 4\n",
    "from sympy import *\n",
    "\n",
    "init_printing()\n",
    "#Question 3\n",
    "var('x')\n",
    "var('y')\n",
    "trigsimp(tan(atan(x)+atan(y)))\n"
   ]
  }
 ],
 "metadata": {
  "kernelspec": {
   "display_name": "Python 3",
   "language": "python",
   "name": "python3"
  },
  "language_info": {
   "codemirror_mode": {
    "name": "ipython",
    "version": 3
   },
   "file_extension": ".py",
   "mimetype": "text/x-python",
   "name": "python",
   "nbconvert_exporter": "python",
   "pygments_lexer": "ipython3",
   "version": "3.7.0"
  }
 },
 "nbformat": 4,
 "nbformat_minor": 2
}
